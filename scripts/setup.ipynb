{
 "cells": [
  {
   "cell_type": "code",
   "execution_count": 2,
   "metadata": {
    "collapsed": false
   },
   "outputs": [
    {
     "name": "stdout",
     "output_type": "stream",
     "text": [
      "Requirement already satisfied: pandas in c:\\users\\carme\\anaconda2\\lib\\site-packages\n",
      "Requirement already satisfied: python-dateutil in c:\\users\\carme\\anaconda2\\lib\\site-packages (from pandas)\n",
      "Requirement already satisfied: pytz>=2011k in c:\\users\\carme\\anaconda2\\lib\\site-packages (from pandas)\n",
      "Requirement already satisfied: numpy>=1.7.0 in c:\\users\\carme\\anaconda2\\lib\\site-packages (from pandas)\n",
      "Requirement already satisfied: six>=1.5 in c:\\users\\carme\\anaconda2\\lib\\site-packages (from python-dateutil->pandas)\n",
      "Requirement already satisfied: numpy in c:\\users\\carme\\anaconda2\\lib\\site-packages\n",
      "Requirement already satisfied: scipy in c:\\users\\carme\\anaconda2\\lib\\site-packages\n",
      "Requirement already satisfied: iplotter in c:\\users\\carme\\anaconda2\\lib\\site-packages\n",
      "Requirement already satisfied: selenium>=3.0 in c:\\users\\carme\\anaconda2\\lib\\site-packages (from iplotter)\n",
      "Requirement already satisfied: notebook>=3.0 in c:\\users\\carme\\anaconda2\\lib\\site-packages (from iplotter)\n",
      "Requirement already satisfied: Jinja2>=2.0 in c:\\users\\carme\\anaconda2\\lib\\site-packages (from iplotter)\n",
      "Requirement already satisfied: ipython>=3.0 in c:\\users\\carme\\anaconda2\\lib\\site-packages (from iplotter)\n",
      "Requirement already satisfied: MarkupSafe>=0.23 in c:\\users\\carme\\anaconda2\\lib\\site-packages (from Jinja2>=2.0->iplotter)\n",
      "Requirement already satisfied: pygal in c:\\users\\carme\\anaconda2\\lib\\site-packages\n",
      "Collecting cairosvg\n",
      "  Downloading CairoSVG-2.0.3.tar.gz\n",
      "    Complete output from command python setup.py egg_info:\n",
      "    Traceback (most recent call last):\n",
      "      File \"<string>\", line 1, in <module>\n",
      "      File \"c:\\users\\carme\\appdata\\local\\temp\\pip-build-iippxs\\cairosvg\\setup.py\", line 24, in <module>\n",
      "        with open(init_path, 'r', encoding='utf-8') as fd:\n",
      "    TypeError: 'encoding' is an invalid keyword argument for this function\n",
      "    \n",
      "    ----------------------------------------\n"
     ]
    },
    {
     "name": "stderr",
     "output_type": "stream",
     "text": [
      "Command \"python setup.py egg_info\" failed with error code 1 in c:\\users\\carme\\appdata\\local\\temp\\pip-build-iippxs\\cairosvg\\\n"
     ]
    }
   ],
   "source": [
    "!pip install pandas\n",
    "!pip install numpy\n",
    "!pip install scipy\n",
    "!pip install iplotter\n",
    "!pip install pygal"
   ]
  },
  {
   "cell_type": "code",
   "execution_count": 8,
   "metadata": {
    "collapsed": false
   },
   "outputs": [
    {
     "name": "stdout",
     "output_type": "stream",
     "text": [
      "Requirement already satisfied: twython in c:\\users\\carme\\anaconda2\\lib\\site-packages\n",
      "Requirement already satisfied: requests-oauthlib>=0.4.0 in c:\\users\\carme\\anaconda2\\lib\\site-packages (from twython)\n",
      "Requirement already satisfied: requests>=2.1.0 in c:\\users\\carme\\anaconda2\\lib\\site-packages (from twython)\n",
      "Requirement already satisfied: oauthlib>=0.6.2 in c:\\users\\carme\\anaconda2\\lib\\site-packages (from requests-oauthlib>=0.4.0->twython)\n",
      "Requirement already satisfied: sexmachine in c:\\users\\carme\\anaconda2\\lib\\site-packages\n",
      "Requirement already satisfied: tweepy in c:\\users\\carme\\anaconda2\\lib\\site-packages\n",
      "Requirement already satisfied: six>=1.7.3 in c:\\users\\carme\\anaconda2\\lib\\site-packages (from tweepy)\n",
      "Requirement already satisfied: requests>=2.4.3 in c:\\users\\carme\\anaconda2\\lib\\site-packages (from tweepy)\n",
      "Requirement already satisfied: requests-oauthlib>=0.4.1 in c:\\users\\carme\\anaconda2\\lib\\site-packages (from tweepy)\n",
      "Requirement already satisfied: oauthlib>=0.6.2 in c:\\users\\carme\\anaconda2\\lib\\site-packages (from requests-oauthlib>=0.4.1->tweepy)\n",
      "Requirement already satisfied: argparse in c:\\users\\carme\\anaconda2\\lib\\site-packages\n",
      "Requirement already satisfied: unidecode in c:\\users\\carme\\anaconda2\\lib\\site-packages\n",
      "Collecting twitter\n",
      "  Downloading twitter-1.17.1-py2.py3-none-any.whl (55kB)\n",
      "Installing collected packages: twitter\n",
      "Successfully installed twitter-1.17.1\n"
     ]
    }
   ],
   "source": [
    "!pip install twython\n",
    "!pip install sexmachine\n",
    "!pip install tweepy\n",
    "!pip install argparse\n",
    "!pip install unidecode\n",
    "!pip install twitter"
   ]
  },
  {
   "cell_type": "code",
   "execution_count": null,
   "metadata": {
    "collapsed": false,
    "scrolled": true
   },
   "outputs": [
    {
     "name": "stderr",
     "output_type": "stream",
     "text": [
      "C:\\Users\\carme\\Anaconda2\\lib\\site-packages\\unidecode\\__init__.py:50: RuntimeWarning: Surrogate character u'\\ud83d' will be ignored. You might be using a narrow Python build.\n",
      "  return _unidecode(string)\n",
      "C:\\Users\\carme\\Anaconda2\\lib\\site-packages\\unidecode\\__init__.py:50: RuntimeWarning: Surrogate character u'\\udc9b' will be ignored. You might be using a narrow Python build.\n",
      "  return _unidecode(string)\n",
      "C:\\Users\\carme\\Anaconda2\\lib\\site-packages\\unidecode\\__init__.py:50: RuntimeWarning: Surrogate character u'\\udc9a' will be ignored. You might be using a narrow Python build.\n",
      "  return _unidecode(string)\n",
      "C:\\Users\\carme\\Anaconda2\\lib\\site-packages\\unidecode\\__init__.py:50: RuntimeWarning: Surrogate character u'\\udc99' will be ignored. You might be using a narrow Python build.\n",
      "  return _unidecode(string)\n",
      "C:\\Users\\carme\\Anaconda2\\lib\\site-packages\\unidecode\\__init__.py:50: RuntimeWarning: Surrogate character u'\\udc9c' will be ignored. You might be using a narrow Python build.\n",
      "  return _unidecode(string)\n",
      "C:\\Users\\carme\\Anaconda2\\lib\\site-packages\\unidecode\\__init__.py:50: RuntimeWarning: Surrogate character u'\\ude03' will be ignored. You might be using a narrow Python build.\n",
      "  return _unidecode(string)\n",
      "C:\\Users\\carme\\Anaconda2\\lib\\site-packages\\unidecode\\__init__.py:50: RuntimeWarning: Surrogate character u'\\ud83c' will be ignored. You might be using a narrow Python build.\n",
      "  return _unidecode(string)\n",
      "C:\\Users\\carme\\Anaconda2\\lib\\site-packages\\unidecode\\__init__.py:50: RuntimeWarning: Surrogate character u'\\udf54' will be ignored. You might be using a narrow Python build.\n",
      "  return _unidecode(string)\n",
      "C:\\Users\\carme\\Anaconda2\\lib\\site-packages\\unidecode\\__init__.py:50: RuntimeWarning: Surrogate character u'\\udf03' will be ignored. You might be using a narrow Python build.\n",
      "  return _unidecode(string)\n",
      "C:\\Users\\carme\\Anaconda2\\lib\\site-packages\\unidecode\\__init__.py:50: RuntimeWarning: Surrogate character u'\\udcdd' will be ignored. You might be using a narrow Python build.\n",
      "  return _unidecode(string)\n",
      "C:\\Users\\carme\\Anaconda2\\lib\\site-packages\\unidecode\\__init__.py:50: RuntimeWarning: Surrogate character u'\\udcbb' will be ignored. You might be using a narrow Python build.\n",
      "  return _unidecode(string)\n"
     ]
    }
   ],
   "source": [
    "run index.py karmel"
   ]
  },
  {
   "cell_type": "code",
   "execution_count": null,
   "metadata": {
    "collapsed": true
   },
   "outputs": [],
   "source": [
    "run tweets.py karmel 100"
   ]
  },
  {
   "cell_type": "code",
   "execution_count": null,
   "metadata": {
    "collapsed": true
   },
   "outputs": [],
   "source": []
  }
 ],
 "metadata": {
  "kernelspec": {
   "display_name": "Python 2",
   "language": "python",
   "name": "python2"
  },
  "language_info": {
   "codemirror_mode": {
    "name": "ipython",
    "version": 2
   },
   "file_extension": ".py",
   "mimetype": "text/x-python",
   "name": "python",
   "nbconvert_exporter": "python",
   "pygments_lexer": "ipython2",
   "version": "2.7.13"
  }
 },
 "nbformat": 4,
 "nbformat_minor": 2
}
