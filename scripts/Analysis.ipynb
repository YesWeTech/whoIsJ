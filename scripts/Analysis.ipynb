{
 "cells": [
  {
   "cell_type": "markdown",
   "metadata": {
    "slideshow": {
     "slide_type": "slide"
    }
   },
   "source": [
    "# Who Is J?\n",
    "\n",
    "## Analysing JOTB diversity network \n",
    "\n",
    "One of the main goals of the ‘Yes We Tech’ community is contributing to create an inclusive space where we can celebrate diversity, provide visibility to women-in-tech, and ensure that everybody has an equal chance to learn, share and enjoy technology-related disciplines.\n",
    "\n",
    "As co-organisers of the event, we have concentrated our efforts in getting more women speakers on board under the assumption that a more diverse panel would enrich the conversation also around technology.\n",
    "\n",
    "Certainly, we have doubled the number of women giving talks this year, but, is this diversity enough? How can we know that we have succeeded in our goal? and more importantly, what can we learn to create a more diverse event in future editions?\n",
    "\n",
    "The work that we are sharing here talks about two things: data and people. Both data and people should help us to find out some answers and understand the reasons why.\n",
    "\n",
    "Let's start with a story about data. Data is pretty simple compared with people. Just take a look at the numbers, the small ones, the ones that better describe what happened in 2016 and 2017 J On The Beach editions."
   ]
  },
  {
   "cell_type": "code",
   "execution_count": 1,
   "metadata": {},
   "outputs": [],
   "source": [
    "import pandas as pd\n",
    "import numpy as np\n",
    "import scipy as sp\n",
    "import pygal\n",
    "import operator\n",
    "from iplotter import GCPlotter\n",
    "\n",
    "plotter = GCPlotter()"
   ]
  },
  {
   "cell_type": "markdown",
   "metadata": {},
   "source": [
    "### Small data analysis\n",
    "\n",
    "Small data says that last year, our 'J' engaged up to 48 speakers and 299 attendees into this big data thing. \n",
    "I'm not considering here any member of the organisation."
   ]
  },
  {
   "cell_type": "code",
   "execution_count": 2,
   "metadata": {},
   "outputs": [
    {
     "data": {
      "text/html": [
       "<div>\n",
       "<style scoped>\n",
       "    .dataframe tbody tr th:only-of-type {\n",
       "        vertical-align: middle;\n",
       "    }\n",
       "\n",
       "    .dataframe tbody tr th {\n",
       "        vertical-align: top;\n",
       "    }\n",
       "\n",
       "    .dataframe thead th {\n",
       "        text-align: right;\n",
       "    }\n",
       "</style>\n",
       "<table border=\"1\" class=\"dataframe\">\n",
       "  <thead>\n",
       "    <tr style=\"text-align: right;\">\n",
       "      <th></th>\n",
       "      <th>Tribe</th>\n",
       "      <th>Women</th>\n",
       "      <th>Men</th>\n",
       "      <th>Total</th>\n",
       "      <th>Women Rate</th>\n",
       "      <th>Men Rate</th>\n",
       "    </tr>\n",
       "  </thead>\n",
       "  <tbody>\n",
       "    <tr>\n",
       "      <th>0</th>\n",
       "      <td>speakers</td>\n",
       "      <td>5</td>\n",
       "      <td>43</td>\n",
       "      <td>48</td>\n",
       "      <td>10.416667</td>\n",
       "      <td>89.583333</td>\n",
       "    </tr>\n",
       "    <tr>\n",
       "      <th>1</th>\n",
       "      <td>attendees</td>\n",
       "      <td>39</td>\n",
       "      <td>260</td>\n",
       "      <td>299</td>\n",
       "      <td>13.043478</td>\n",
       "      <td>86.956522</td>\n",
       "    </tr>\n",
       "    <tr>\n",
       "      <th>2</th>\n",
       "      <td>independent</td>\n",
       "      <td>8</td>\n",
       "      <td>44</td>\n",
       "      <td>52</td>\n",
       "      <td>15.384615</td>\n",
       "      <td>84.615385</td>\n",
       "    </tr>\n",
       "    <tr>\n",
       "      <th>3</th>\n",
       "      <td>company_teams</td>\n",
       "      <td>28</td>\n",
       "      <td>214</td>\n",
       "      <td>242</td>\n",
       "      <td>11.570248</td>\n",
       "      <td>88.429752</td>\n",
       "    </tr>\n",
       "    <tr>\n",
       "      <th>4</th>\n",
       "      <td>company_teams_no_women</td>\n",
       "      <td>0</td>\n",
       "      <td>99</td>\n",
       "      <td>99</td>\n",
       "      <td>0.000000</td>\n",
       "      <td>100.000000</td>\n",
       "    </tr>\n",
       "    <tr>\n",
       "      <th>5</th>\n",
       "      <td>hackathon</td>\n",
       "      <td>0</td>\n",
       "      <td>0</td>\n",
       "      <td>0</td>\n",
       "      <td>NaN</td>\n",
       "      <td>NaN</td>\n",
       "    </tr>\n",
       "  </tbody>\n",
       "</table>\n",
       "</div>"
      ],
      "text/plain": [
       "                    Tribe  Women  Men  Total  Women Rate    Men Rate\n",
       "0                speakers      5   43     48   10.416667   89.583333\n",
       "1               attendees     39  260    299   13.043478   86.956522\n",
       "2             independent      8   44     52   15.384615   84.615385\n",
       "3           company_teams     28  214    242   11.570248   88.429752\n",
       "4  company_teams_no_women      0   99     99    0.000000  100.000000\n",
       "5               hackathon      0    0      0         NaN         NaN"
      ]
     },
     "execution_count": 2,
     "metadata": {},
     "output_type": "execute_result"
    }
   ],
   "source": [
    "data2016 = pd.read_csv('../input/small_data_2016.csv')\n",
    "data2016['Women Rate'] = pd.Series(data2016['Women']*100/data2016['Total'])\n",
    "data2016['Men Rate'] = pd.Series(data2016['Men']*100/data2016['Total'])\n",
    "data2016"
   ]
  },
  {
   "cell_type": "markdown",
   "metadata": {},
   "source": [
    "This year speakers are 40, few less than last year, while participation have reached the number of 368 people. (Compare the increment of attendees 368 vs 299"
   ]
  },
  {
   "cell_type": "code",
   "execution_count": 3,
   "metadata": {
    "scrolled": true
   },
   "outputs": [
    {
     "data": {
      "text/html": [
       "<div>\n",
       "<style scoped>\n",
       "    .dataframe tbody tr th:only-of-type {\n",
       "        vertical-align: middle;\n",
       "    }\n",
       "\n",
       "    .dataframe tbody tr th {\n",
       "        vertical-align: top;\n",
       "    }\n",
       "\n",
       "    .dataframe thead th {\n",
       "        text-align: right;\n",
       "    }\n",
       "</style>\n",
       "<table border=\"1\" class=\"dataframe\">\n",
       "  <thead>\n",
       "    <tr style=\"text-align: right;\">\n",
       "      <th></th>\n",
       "      <th>Tribe</th>\n",
       "      <th>Women</th>\n",
       "      <th>Men</th>\n",
       "      <th>Total</th>\n",
       "      <th>Women Rate</th>\n",
       "      <th>Men Rate</th>\n",
       "    </tr>\n",
       "  </thead>\n",
       "  <tbody>\n",
       "    <tr>\n",
       "      <th>0</th>\n",
       "      <td>speakers</td>\n",
       "      <td>11</td>\n",
       "      <td>29</td>\n",
       "      <td>40</td>\n",
       "      <td>27.500000</td>\n",
       "      <td>72.500000</td>\n",
       "    </tr>\n",
       "    <tr>\n",
       "      <th>1</th>\n",
       "      <td>attendees</td>\n",
       "      <td>36</td>\n",
       "      <td>332</td>\n",
       "      <td>368</td>\n",
       "      <td>9.782609</td>\n",
       "      <td>90.217391</td>\n",
       "    </tr>\n",
       "    <tr>\n",
       "      <th>2</th>\n",
       "      <td>independent</td>\n",
       "      <td>6</td>\n",
       "      <td>65</td>\n",
       "      <td>71</td>\n",
       "      <td>8.450704</td>\n",
       "      <td>91.549296</td>\n",
       "    </tr>\n",
       "    <tr>\n",
       "      <th>3</th>\n",
       "      <td>copmany_teams</td>\n",
       "      <td>30</td>\n",
       "      <td>267</td>\n",
       "      <td>297</td>\n",
       "      <td>10.101010</td>\n",
       "      <td>89.898990</td>\n",
       "    </tr>\n",
       "    <tr>\n",
       "      <th>4</th>\n",
       "      <td>company_teams_no_women</td>\n",
       "      <td>0</td>\n",
       "      <td>134</td>\n",
       "      <td>134</td>\n",
       "      <td>0.000000</td>\n",
       "      <td>100.000000</td>\n",
       "    </tr>\n",
       "    <tr>\n",
       "      <th>5</th>\n",
       "      <td>hackathon</td>\n",
       "      <td>4</td>\n",
       "      <td>21</td>\n",
       "      <td>25</td>\n",
       "      <td>16.000000</td>\n",
       "      <td>84.000000</td>\n",
       "    </tr>\n",
       "  </tbody>\n",
       "</table>\n",
       "</div>"
      ],
      "text/plain": [
       "                    Tribe  Women  Men  Total  Women Rate    Men Rate\n",
       "0                speakers     11   29     40   27.500000   72.500000\n",
       "1               attendees     36  332    368    9.782609   90.217391\n",
       "2             independent      6   65     71    8.450704   91.549296\n",
       "3           copmany_teams     30  267    297   10.101010   89.898990\n",
       "4  company_teams_no_women      0  134    134    0.000000  100.000000\n",
       "5               hackathon      4   21     25   16.000000   84.000000"
      ]
     },
     "execution_count": 3,
     "metadata": {},
     "output_type": "execute_result"
    }
   ],
   "source": [
    "data2017 = pd.read_csv('../input/small_data_2017.csv')\n",
    "data2017['Women Rate'] = pd.Series(data2017['Women']*100/data2017['Total'])\n",
    "data2017['Men Rate'] = pd.Series(data2017['Men']*100/data2017['Total'])\n",
    "data2017"
   ]
  },
  {
   "cell_type": "code",
   "execution_count": 4,
   "metadata": {},
   "outputs": [
    {
     "data": {
      "text/plain": [
       "18.75"
      ]
     },
     "execution_count": 4,
     "metadata": {},
     "output_type": "execute_result"
    }
   ],
   "source": [
    "increase = 100 - 299*100.00/368\n",
    "increase"
   ]
  },
  {
   "cell_type": "markdown",
   "metadata": {},
   "source": [
    "It is noticable also, that big data is bigger than ever and this year we have included workshops and a hackathon.\n",
    "  \n",
    "The more the better right? Let's continue because there are more numbers behind those ones. Numbers that will give us some signs of diversity.\n",
    "\n",
    "#### Diversity\n",
    "\n",
    "When it comes about speakers, this year we have a **27.5%** of women speaking to J, compared with a rough **10.4%** of the last year."
   ]
  },
  {
   "cell_type": "code",
   "execution_count": 5,
   "metadata": {},
   "outputs": [
    {
     "data": {
      "text/html": [
       "<iframe srcdoc=\"\n",
       "        <!-- Load Google Charts -->\n",
       "        <script type='text/javascript' src='https://www.gstatic.com/charts/loader.js'></script>\n",
       "    \n",
       "        <div id=chart style='width: 100%; height: 100%' ></div>\n",
       "        <script type='text/javascript'>\n",
       "            google.charts.load('current', {'packages':['corechart']});\n",
       "            google.charts.setOnLoadCallback(drawChart);\n",
       "\n",
       "            function drawChart() {\n",
       "                var data = google.visualization.arrayToDataTable([\n",
       "    [\n",
       "        'Tribe', \n",
       "        'Women', \n",
       "        'Men', \n",
       "        {\n",
       "            'role': 'annotation'\n",
       "        }\n",
       "    ], \n",
       "    [\n",
       "        '2016', \n",
       "        10.416666666666666, \n",
       "        89.58333333333333, \n",
       "        ''\n",
       "    ], \n",
       "    [\n",
       "        '2017', \n",
       "        27.5, \n",
       "        72.5, \n",
       "        ''\n",
       "    ]\n",
       "]\n",
       "                );\n",
       "\n",
       "                var chart = new google.visualization.ColumnChart(document.getElementById('chart'));\n",
       "\n",
       "                chart.draw(data, {\n",
       "    'isStacked': 'true', \n",
       "    'bar': {\n",
       "        'groupWidth': '50%'\n",
       "    }, \n",
       "    'title': 'Speakers at JOTB', \n",
       "    'height': 400, \n",
       "    'width': 600, \n",
       "    'colors': [\n",
       "        '#984e9e', \n",
       "        '#ed1c40'\n",
       "    ], \n",
       "    'legend': {\n",
       "        'position': 'top', \n",
       "        'maxLines': 3\n",
       "    }\n",
       "});\n",
       "            }\n",
       "        </script>\n",
       "    \" src=\"\" width=\"800\" height=\"420\" frameborder=0 sandbox=\"allow-scripts\"></iframe>"
      ],
      "text/plain": [
       "<IPython.core.display.HTML object>"
      ]
     },
     "execution_count": 5,
     "metadata": {},
     "output_type": "execute_result"
    }
   ],
   "source": [
    "data = [\n",
    "    ['Tribe', 'Women', 'Men', {\"role\": 'annotation'}],\n",
    "    ['2016', data2016['Women Rate'][0], data2016['Men Rate'][0],''],\n",
    "    ['2017', data2017['Women Rate'][0], data2017['Men Rate'][0],''],\n",
    "]\n",
    "options = {\n",
    "    \"title\": 'Speakers at JOTB',\n",
    "    \"width\": 600,\n",
    "    \"height\": 400,\n",
    "    \"legend\": {\"position\": 'top', \"maxLines\": 3},\n",
    "    \"bar\": {\"groupWidth\": '50%'},\n",
    "    \"isStacked\": \"true\",\n",
    "    \"colors\": ['#984e9e', '#ed1c40'],\n",
    "}\n",
    "\n",
    "plotter.plot(data,chart_type='ColumnChart',chart_package='corechart', options=options)"
   ]
  },
  {
   "cell_type": "markdown",
   "metadata": {},
   "source": [
    "However, and this is the worrying thing, the participation of women as attendees has slightly dropped from a not too ambitious **13%** to a disappointing **9.8%**. So we have an x% more of attendees but zero impact on a wider variaty of people."
   ]
  },
  {
   "cell_type": "code",
   "execution_count": 6,
   "metadata": {},
   "outputs": [
    {
     "data": {
      "text/html": [
       "<iframe srcdoc=\"\n",
       "        <!-- Load Google Charts -->\n",
       "        <script type='text/javascript' src='https://www.gstatic.com/charts/loader.js'></script>\n",
       "    \n",
       "        <div id=chart style='width: 100%; height: 100%' ></div>\n",
       "        <script type='text/javascript'>\n",
       "            google.charts.load('current', {'packages':['corechart']});\n",
       "            google.charts.setOnLoadCallback(drawChart);\n",
       "\n",
       "            function drawChart() {\n",
       "                var data = google.visualization.arrayToDataTable([\n",
       "    [\n",
       "        'Tribe', \n",
       "        'Women', \n",
       "        'Men', \n",
       "        {\n",
       "            'role': 'annotation'\n",
       "        }\n",
       "    ], \n",
       "    [\n",
       "        '2016', \n",
       "        13.043478260869565, \n",
       "        86.95652173913044, \n",
       "        ''\n",
       "    ], \n",
       "    [\n",
       "        '2017', \n",
       "        9.782608695652174, \n",
       "        90.21739130434783, \n",
       "        ''\n",
       "    ]\n",
       "]\n",
       "                );\n",
       "\n",
       "                var chart = new google.visualization.ColumnChart(document.getElementById('chart'));\n",
       "\n",
       "                chart.draw(data, {\n",
       "    'isStacked': 'true', \n",
       "    'bar': {\n",
       "        'groupWidth': '55%'\n",
       "    }, \n",
       "    'title': 'Attendees at JOTB', \n",
       "    'height': 400, \n",
       "    'width': 600, \n",
       "    'colors': [\n",
       "        '#984e9e', \n",
       "        '#ed1c40'\n",
       "    ], \n",
       "    'legend': {\n",
       "        'position': 'top', \n",
       "        'maxLines': 3\n",
       "    }\n",
       "});\n",
       "            }\n",
       "        </script>\n",
       "    \" src=\"\" width=\"800\" height=\"420\" frameborder=0 sandbox=\"allow-scripts\"></iframe>"
      ],
      "text/plain": [
       "<IPython.core.display.HTML object>"
      ]
     },
     "execution_count": 6,
     "metadata": {},
     "output_type": "execute_result"
    }
   ],
   "source": [
    "data = [\n",
    "    ['Tribe', 'Women', 'Men', {\"role\": 'annotation'}],\n",
    "    ['2016', data2016['Women Rate'][1], data2016['Men Rate'][1],''],\n",
    "    ['2017', data2017['Women Rate'][1], data2017['Men Rate'][1],''],\n",
    "]\n",
    "options = {\n",
    "    \"title\": 'Attendees at JOTB',\n",
    "    \"width\": 600,\n",
    "    \"height\": 400,\n",
    "    \"legend\": {\"position\": 'top', \"maxLines\": 3},\n",
    "    \"bar\": {\"groupWidth\": '55%'},\n",
    "    \"isStacked\": \"true\",\n",
    "    \"colors\": ['#984e9e', '#ed1c40'],\n",
    "}\n",
    "\n",
    "plotter.plot(data,chart_type='ColumnChart',chart_package='corechart', options=options)"
   ]
  },
  {
   "cell_type": "markdown",
   "metadata": {},
   "source": [
    "#### Why this happened? \n",
    "\n",
    "We don’t really know. But we continued looking at the numbers and realised that **30** of the **45** companies that enrolled two or more people didn't include any women on their lists. Meaning a **31%** of the mass of attendees. Correlate team size with women percentage to validate if: the smaller the teams are, the less chances to include a women on their lists"
   ]
  },
  {
   "cell_type": "code",
   "execution_count": 7,
   "metadata": {},
   "outputs": [
    {
     "data": {
      "text/plain": [
       "0    31\n",
       "dtype: int64"
      ]
     },
     "execution_count": 7,
     "metadata": {},
     "output_type": "execute_result"
    }
   ],
   "source": [
    "companies_team = data2017['Total'][3] + data2017['Total'][4]\n",
    "mass_represented = pd.Series(data2017['Total'][4]*100/companies_team)\n",
    "women_represented = pd.Series(100 - mass_represented)\n",
    "mass_represented"
   ]
  },
  {
   "cell_type": "markdown",
   "metadata": {},
   "source": [
    "For us this is not a good sign. Despite the fact that our ability to summon has increased on our monthly meetups (the ones that attempts to create this culture for equality on Málaga), the engagement on other events doesn’t have a big impact.\n",
    "\n",
    "Again I'm not blaming companies here, because if we try to identify the participation rate of women who are not part of a team, the representation also decreased almost a **50%**."
   ]
  },
  {
   "cell_type": "code",
   "execution_count": 8,
   "metadata": {},
   "outputs": [
    {
     "data": {
      "text/html": [
       "<iframe srcdoc=\"\n",
       "        <!-- Load Google Charts -->\n",
       "        <script type='text/javascript' src='https://www.gstatic.com/charts/loader.js'></script>\n",
       "    \n",
       "        <div id=chart style='width: 100%; height: 100%' ></div>\n",
       "        <script type='text/javascript'>\n",
       "            google.charts.load('current', {'packages':['corechart']});\n",
       "            google.charts.setOnLoadCallback(drawChart);\n",
       "\n",
       "            function drawChart() {\n",
       "                var data = google.visualization.arrayToDataTable([\n",
       "    [\n",
       "        'Tribe', \n",
       "        'Women', \n",
       "        'Men', \n",
       "        {\n",
       "            'role': 'annotation'\n",
       "        }\n",
       "    ], \n",
       "    [\n",
       "        'independent', \n",
       "        15.384615384615385, \n",
       "        84.61538461538461, \n",
       "        ''\n",
       "    ], \n",
       "    [\n",
       "        'company_teams', \n",
       "        11.570247933884298, \n",
       "        88.4297520661157, \n",
       "        ''\n",
       "    ], \n",
       "    [\n",
       "        'hackathon', \n",
       "        NaN, \n",
       "        NaN, \n",
       "        ''\n",
       "    ]\n",
       "]\n",
       "                );\n",
       "\n",
       "                var chart = new google.visualization.ColumnChart(document.getElementById('chart'));\n",
       "\n",
       "                chart.draw(data, {\n",
       "    'isStacked': 'true', \n",
       "    'bar': {\n",
       "        'groupWidth': '55%'\n",
       "    }, \n",
       "    'title': '2016 JOTB Edition', \n",
       "    'height': 400, \n",
       "    'width': 600, \n",
       "    'colors': [\n",
       "        '#984e9e', \n",
       "        '#ed1c40'\n",
       "    ], \n",
       "    'legend': {\n",
       "        'position': 'top', \n",
       "        'maxLines': 3\n",
       "    }\n",
       "});\n",
       "            }\n",
       "        </script>\n",
       "    \" src=\"\" width=\"800\" height=\"420\" frameborder=0 sandbox=\"allow-scripts\"></iframe>"
      ],
      "text/plain": [
       "<IPython.core.display.HTML object>"
      ]
     },
     "execution_count": 8,
     "metadata": {},
     "output_type": "execute_result"
    }
   ],
   "source": [
    "data = [\n",
    "    ['Tribe', 'Women', 'Men', {\"role\": 'annotation'}],\n",
    "    [data2016['Tribe'][2], data2016['Women Rate'][2], data2016['Men Rate'][2],''],\n",
    "    [data2016['Tribe'][3], data2016['Women Rate'][3], data2016['Men Rate'][3],''],\n",
    "    [data2016['Tribe'][5], data2016['Women Rate'][5], data2016['Men Rate'][5],''],\n",
    "]\n",
    "options = {\n",
    "    \"title\": '2016 JOTB Edition',\n",
    "    \"width\": 600,\n",
    "    \"height\": 400,\n",
    "    \"legend\": {\"position\": 'top', \"maxLines\": 3},\n",
    "    \"bar\": {\"groupWidth\": '55%'},\n",
    "    \"isStacked\": \"true\",\n",
    "    \"colors\": ['#984e9e', '#ed1c40'],\n",
    "}\n",
    "\n",
    "plotter.plot(data,chart_type='ColumnChart',chart_package='corechart', options=options)"
   ]
  },
  {
   "cell_type": "code",
   "execution_count": 9,
   "metadata": {},
   "outputs": [
    {
     "data": {
      "text/html": [
       "<iframe srcdoc=\"\n",
       "        <!-- Load Google Charts -->\n",
       "        <script type='text/javascript' src='https://www.gstatic.com/charts/loader.js'></script>\n",
       "    \n",
       "        <div id=chart style='width: 100%; height: 100%' ></div>\n",
       "        <script type='text/javascript'>\n",
       "            google.charts.load('current', {'packages':['corechart']});\n",
       "            google.charts.setOnLoadCallback(drawChart);\n",
       "\n",
       "            function drawChart() {\n",
       "                var data = google.visualization.arrayToDataTable([\n",
       "    [\n",
       "        'Tribe', \n",
       "        'Women', \n",
       "        'Men', \n",
       "        {\n",
       "            'role': 'annotation'\n",
       "        }\n",
       "    ], \n",
       "    [\n",
       "        'independent', \n",
       "        8.450704225352112, \n",
       "        91.54929577464789, \n",
       "        ''\n",
       "    ], \n",
       "    [\n",
       "        'copmany_teams', \n",
       "        10.1010101010101, \n",
       "        89.8989898989899, \n",
       "        ''\n",
       "    ], \n",
       "    [\n",
       "        'hackathon', \n",
       "        16.0, \n",
       "        84.0, \n",
       "        ''\n",
       "    ]\n",
       "]\n",
       "                );\n",
       "\n",
       "                var chart = new google.visualization.ColumnChart(document.getElementById('chart'));\n",
       "\n",
       "                chart.draw(data, {\n",
       "    'isStacked': 'true', \n",
       "    'bar': {\n",
       "        'groupWidth': '55%'\n",
       "    }, \n",
       "    'title': '2017 JOTB Edition', \n",
       "    'height': 400, \n",
       "    'width': 600, \n",
       "    'colors': [\n",
       "        '#984e9e', \n",
       "        '#ed1c40'\n",
       "    ], \n",
       "    'legend': {\n",
       "        'position': 'top', \n",
       "        'maxLines': 3\n",
       "    }\n",
       "});\n",
       "            }\n",
       "        </script>\n",
       "    \" src=\"\" width=\"800\" height=\"420\" frameborder=0 sandbox=\"allow-scripts\"></iframe>"
      ],
      "text/plain": [
       "<IPython.core.display.HTML object>"
      ]
     },
     "execution_count": 9,
     "metadata": {},
     "output_type": "execute_result"
    }
   ],
   "source": [
    "data = [\n",
    "    ['Tribe', 'Women', 'Men', {\"role\": 'annotation'}],\n",
    "    [data2017['Tribe'][2], data2017['Women Rate'][2], data2017['Men Rate'][2],''],\n",
    "    [data2017['Tribe'][3], data2017['Women Rate'][3], data2017['Men Rate'][3],''],\n",
    "    [data2017['Tribe'][5], data2017['Women Rate'][5], data2017['Men Rate'][5],''],\n",
    "]\n",
    "options = {\n",
    "    \"title\": '2017 JOTB Edition',\n",
    "    \"width\": 600,\n",
    "    \"height\": 400,\n",
    "    \"legend\": {\"position\": 'top', \"maxLines\": 3},\n",
    "    \"bar\": {\"groupWidth\": '55%'},\n",
    "    \"isStacked\": \"true\",\n",
    "    \"colors\": ['#984e9e', '#ed1c40'],\n",
    "}\n",
    "\n",
    "plotter.plot(data,chart_type='ColumnChart',chart_package='corechart', options=options)"
   ]
  },
  {
   "cell_type": "markdown",
   "metadata": {},
   "source": [
    "Before before blaming anyone or falling to quickly into self-indulgence, there are still more data to play with.\n",
    "\n",
    "Note aside: the next thing is nothing but an experiment, nothing is categorical or has been made with the intention of offending any body. Like our t-shirt labels says: no programmer have been injured in the creation of the following data game.\n",
    "\n",
    "# Social network analysis\n",
    "The next story talks about people. The people around J, the ones who follow, are followed by, interact with, and create the chances of a more diverse and interesting conference. \n",
    "\n",
    "It is also a story about the people who organise this conference. Because when we started to plan a conference like this, we did nothing but thinking on what could be interesting for the people who come. In order to get that we used the previous knowledge that we have about cool people who do amazing things with data, and JVM technologies. And this means looking into our own networks and following suggestions of the people we trust. \n",
    "\n",
    "So if we assume that we are biased by the people around us, we thought it was a good idea to know first how is the network of people around J to see the chances that we have to bring someone different, unusual that can add value to the conference.\n",
    "\n",
    "For the moment, since this is an experiment that wants to trigger your reaction we will look at J's Twitter account.\n",
    "\n",
    "Indeed, a real-world network would have a larger amount of numbers and people to look at, but yet a digital social network is about human interactions, conversations and knowledge sharing. "
   ]
  },
  {
   "cell_type": "markdown",
   "metadata": {},
   "source": [
    "For this experiment we've used `sexmachine` python library https://pypi.python.org/pypi/SexMachine/ and the 'Twitter Gender Distribution' project published in github https://github.com/ajdavis/twitter-gender-distribution to find out the gender of a specific twitter acount."
   ]
  },
  {
   "cell_type": "code",
   "execution_count": 10,
   "metadata": {
    "slideshow": {
     "slide_type": "slide"
    }
   },
   "outputs": [],
   "source": [
    "run index.py jotb2018"
   ]
  },
  {
   "cell_type": "markdown",
   "metadata": {},
   "source": [
    "From the small **50%** of J's friends that could be identified with a gender, the distribution woman/men is a **20/80**. Friends are the ones who follow and are followed by J."
   ]
  },
  {
   "cell_type": "code",
   "execution_count": 11,
   "metadata": {
    "slideshow": {
     "slide_type": "subslide"
    }
   },
   "outputs": [
    {
     "data": {
      "text/html": [
       "<div>\n",
       "<style scoped>\n",
       "    .dataframe tbody tr th:only-of-type {\n",
       "        vertical-align: middle;\n",
       "    }\n",
       "\n",
       "    .dataframe tbody tr th {\n",
       "        vertical-align: top;\n",
       "    }\n",
       "\n",
       "    .dataframe thead th {\n",
       "        text-align: right;\n",
       "    }\n",
       "</style>\n",
       "<table border=\"1\" class=\"dataframe\">\n",
       "  <thead>\n",
       "    <tr style=\"text-align: right;\">\n",
       "      <th></th>\n",
       "      <th>jotb2018</th>\n",
       "    </tr>\n",
       "  </thead>\n",
       "  <tbody>\n",
       "    <tr>\n",
       "      <th>favourites_count</th>\n",
       "      <td>2518</td>\n",
       "    </tr>\n",
       "    <tr>\n",
       "      <th>female_count</th>\n",
       "      <td>67</td>\n",
       "    </tr>\n",
       "    <tr>\n",
       "      <th>female_rate</th>\n",
       "      <td>17%</td>\n",
       "    </tr>\n",
       "    <tr>\n",
       "      <th>followers_count</th>\n",
       "      <td>1483</td>\n",
       "    </tr>\n",
       "    <tr>\n",
       "      <th>followers_list</th>\n",
       "      <td>{u'Angelfirenze': {u'lang': u'en', u'favourite...</td>\n",
       "    </tr>\n",
       "    <tr>\n",
       "      <th>friends_count</th>\n",
       "      <td>224</td>\n",
       "    </tr>\n",
       "    <tr>\n",
       "      <th>friends_list</th>\n",
       "      <td>{u'rgransberger': {u'lang': u'de', u'favourite...</td>\n",
       "    </tr>\n",
       "    <tr>\n",
       "      <th>gender</th>\n",
       "      <td>undetermined</td>\n",
       "    </tr>\n",
       "    <tr>\n",
       "      <th>id</th>\n",
       "      <td>3899375963</td>\n",
       "    </tr>\n",
       "    <tr>\n",
       "      <th>lang</th>\n",
       "      <td>es</td>\n",
       "    </tr>\n",
       "    <tr>\n",
       "      <th>location</th>\n",
       "      <td>Málaga, España</td>\n",
       "    </tr>\n",
       "    <tr>\n",
       "      <th>male_count</th>\n",
       "      <td>175</td>\n",
       "    </tr>\n",
       "    <tr>\n",
       "      <th>male_rate</th>\n",
       "      <td>45%</td>\n",
       "    </tr>\n",
       "    <tr>\n",
       "      <th>name</th>\n",
       "      <td>J On The Beach</td>\n",
       "    </tr>\n",
       "    <tr>\n",
       "      <th>nonbinary_count</th>\n",
       "      <td>1</td>\n",
       "    </tr>\n",
       "    <tr>\n",
       "      <th>nonbinary_rate</th>\n",
       "      <td>0%</td>\n",
       "    </tr>\n",
       "    <tr>\n",
       "      <th>statuses_count</th>\n",
       "      <td>2143</td>\n",
       "    </tr>\n",
       "    <tr>\n",
       "      <th>total_count</th>\n",
       "      <td>388</td>\n",
       "    </tr>\n",
       "    <tr>\n",
       "      <th>undefined_count</th>\n",
       "      <td>127</td>\n",
       "    </tr>\n",
       "    <tr>\n",
       "      <th>undefined_rate</th>\n",
       "      <td>32%</td>\n",
       "    </tr>\n",
       "  </tbody>\n",
       "</table>\n",
       "</div>"
      ],
      "text/plain": [
       "                                                           jotb2018\n",
       "favourites_count                                               2518\n",
       "female_count                                                     67\n",
       "female_rate                                                     17%\n",
       "followers_count                                                1483\n",
       "followers_list    {u'Angelfirenze': {u'lang': u'en', u'favourite...\n",
       "friends_count                                                   224\n",
       "friends_list      {u'rgransberger': {u'lang': u'de', u'favourite...\n",
       "gender                                                 undetermined\n",
       "id                                                       3899375963\n",
       "lang                                                             es\n",
       "location                                             Málaga, España\n",
       "male_count                                                      175\n",
       "male_rate                                                       45%\n",
       "name                                                 J On The Beach\n",
       "nonbinary_count                                                   1\n",
       "nonbinary_rate                                                   0%\n",
       "statuses_count                                                 2143\n",
       "total_count                                                     388\n",
       "undefined_count                                                 127\n",
       "undefined_rate                                                  32%"
      ]
     },
     "execution_count": 11,
     "metadata": {},
     "output_type": "execute_result"
    }
   ],
   "source": [
    "# Read the file and take some important information\n",
    "whoisj = pd.read_json('../out/jotb2018.json', orient = 'columns')\n",
    "people = pd.read_json(whoisj['jotb2018'].to_json())\n",
    "following_total = whoisj['jotb2018']['friends_count']\n",
    "followers_total = whoisj['jotb2018']['followers_count']\n",
    "followers = pd.read_json(people['followers_list'].to_json(), orient = 'index')\n",
    "following = pd.read_json(people['friends_list'].to_json(), orient = 'index')\n",
    "whoisj"
   ]
  },
  {
   "cell_type": "markdown",
   "metadata": {},
   "source": [
    "## J follows to..."
   ]
  },
  {
   "cell_type": "code",
   "execution_count": 12,
   "metadata": {},
   "outputs": [
    {
     "data": {
      "text/plain": [
       "224"
      ]
     },
     "execution_count": 12,
     "metadata": {},
     "output_type": "execute_result"
    }
   ],
   "source": [
    "# J follows to...\n",
    "following_total"
   ]
  },
  {
   "cell_type": "markdown",
   "metadata": {},
   "source": [
    "## J is followed by..."
   ]
  },
  {
   "cell_type": "code",
   "execution_count": 13,
   "metadata": {},
   "outputs": [
    {
     "data": {
      "text/plain": [
       "1483"
      ]
     },
     "execution_count": 13,
     "metadata": {},
     "output_type": "execute_result"
    }
   ],
   "source": [
    "# J is followed by...\n",
    "followers_total"
   ]
  },
  {
   "cell_type": "markdown",
   "metadata": {},
   "source": [
    "## Gender distribution"
   ]
  },
  {
   "cell_type": "code",
   "execution_count": 14,
   "metadata": {},
   "outputs": [
    {
     "data": {
      "text/plain": [
       "male             101\n",
       "undetermined      53\n",
       "female            36\n",
       "mostly_female      8\n",
       "mostly_male        2\n",
       "Name: gender, dtype: int64"
      ]
     },
     "execution_count": 14,
     "metadata": {},
     "output_type": "execute_result"
    }
   ],
   "source": [
    "followers['gender'].value_counts()"
   ]
  },
  {
   "cell_type": "code",
   "execution_count": 15,
   "metadata": {},
   "outputs": [
    {
     "data": {
      "text/plain": [
       "male             77\n",
       "undetermined     75\n",
       "female           38\n",
       "mostly_female     6\n",
       "mostly_male       3\n",
       "nonbinary         1\n",
       "Name: gender, dtype: int64"
      ]
     },
     "execution_count": 15,
     "metadata": {},
     "output_type": "execute_result"
    }
   ],
   "source": [
    "following['gender'].value_counts()"
   ]
  },
  {
   "cell_type": "code",
   "execution_count": 16,
   "metadata": {},
   "outputs": [
    {
     "name": "stdout",
     "output_type": "stream",
     "text": [
      "file:///tmp/tmpDMFLjP.html\n"
     ]
    }
   ],
   "source": [
    "followers_dist = followers['gender'].value_counts()\n",
    "genders = followers['gender'].value_counts().keys()\n",
    "\n",
    "followers_map = pygal.Pie(height=400)\n",
    "followers_map.title = 'Followers Gender Map'\n",
    "\n",
    "for i in genders:\n",
    "    followers_map.add(i,followers_dist[i]*100.00/followers_total)\n",
    "\n",
    "followers_map.render_in_browser()"
   ]
  },
  {
   "cell_type": "code",
   "execution_count": 17,
   "metadata": {},
   "outputs": [
    {
     "name": "stdout",
     "output_type": "stream",
     "text": [
      "file:///tmp/tmpdyrMnq.html\n"
     ]
    }
   ],
   "source": [
    "following_dist = following['gender'].value_counts()\n",
    "genders = following['gender'].value_counts().keys()\n",
    "\n",
    "following_map = pygal.Pie(height=400)\n",
    "following_map.title = 'Following Gender Map'\n",
    "\n",
    "for i in genders:\n",
    "    following_map.add(i,following_dist[i]*100.00/following_total)\n",
    "\n",
    "following_map.render_in_browser()"
   ]
  },
  {
   "cell_type": "markdown",
   "metadata": {},
   "source": [
    "## Language distribution"
   ]
  },
  {
   "cell_type": "code",
   "execution_count": 18,
   "metadata": {},
   "outputs": [
    {
     "name": "stdout",
     "output_type": "stream",
     "text": [
      "file:///tmp/tmpL0cRo8.html\n"
     ]
    }
   ],
   "source": [
    "lang_counts = followers['lang'].value_counts()\n",
    "languages = followers['lang'].value_counts().keys()\n",
    "\n",
    "followers_dist = followers['gender'].value_counts()\n",
    "\n",
    "lang_followers_map = pygal.Treemap(height=400)\n",
    "lang_followers_map.title = 'Followers Language Map'\n",
    "\n",
    "for i in languages:\n",
    "    lang_followers_map.add(i,lang_counts[i]*100.00/followers_total)\n",
    "\n",
    "lang_followers_map.render_in_browser()"
   ]
  },
  {
   "cell_type": "code",
   "execution_count": 19,
   "metadata": {},
   "outputs": [
    {
     "name": "stdout",
     "output_type": "stream",
     "text": [
      "file:///tmp/tmpYEUnt2.html\n"
     ]
    }
   ],
   "source": [
    "lang_counts = following['lang'].value_counts()\n",
    "languages = following['lang'].value_counts().keys()\n",
    "\n",
    "following_dist = following['gender'].value_counts()\n",
    "\n",
    "lang_following_map = pygal.Treemap(height=400)\n",
    "lang_following_map.title = 'Following Language Map'\n",
    "\n",
    "for i in languages:\n",
    "    lang_following_map.add(i,lang_counts[i]*100.00/following_total)\n",
    "\n",
    "lang_following_map.render_in_browser()"
   ]
  },
  {
   "cell_type": "markdown",
   "metadata": {},
   "source": [
    "## Location distribution"
   ]
  },
  {
   "cell_type": "code",
   "execution_count": 20,
   "metadata": {
    "scrolled": true
   },
   "outputs": [
    {
     "data": {
      "text/plain": [
       "                                  54\n",
       "Malaga, Spain                      6\n",
       "Málaga                             5\n",
       "Málaga, España                     5\n",
       "España                             4\n",
       "Madrid                             4\n",
       "Spain                              3\n",
       "Madrid, Spain                      3\n",
       "London, England                    2\n",
       "Malaga                             2\n",
       "London                             2\n",
       "Bristol, England                   2\n",
       "Amsterdam                          2\n",
       "Sevilla                            2\n",
       "Stockholm, Sweden                  2\n",
       "Los Angeles, CA                    2\n",
       "Manchester, England                2\n",
       "Sweden                             1\n",
       "Sri Lanka                          1\n",
       "Costa del Sol (Spain)              1\n",
       "Cadiz - Spain                      1\n",
       "Reggio Emilia, Italy               1\n",
       "Pune                               1\n",
       "Netherlands                        1\n",
       "Málaga y Vélez Málaga              1\n",
       "Utrecht, Nederland                 1\n",
       "The Netherlands, Hilversum         1\n",
       "Entre Málaga y República Checa     1\n",
       "Madrid, Comunidad de Madrid        1\n",
       "Bengaluru South, India             1\n",
       "                                  ..\n",
       "Northern California                1\n",
       "Marbella                           1\n",
       "The Netherlands                    1\n",
       "Palma, España                      1\n",
       "New York, USA                      1\n",
       "Comunidad de Madrid, España        1\n",
       "Valencia (Spain)                   1\n",
       "Trondheim, Norway                  1\n",
       "Jaén/Málaga                        1\n",
       "Málaga & Bristol 🇪🇸🇬🇧              1\n",
       "CORDOBA, SPAIN                     1\n",
       "Warsaw, Poland                     1\n",
       "53.764401,-2.705537                1\n",
       "Madroñera, España                  1\n",
       "Montmartre, Francia                1\n",
       "Milano, Lombardia                  1\n",
       "Granada, Spain                     1\n",
       "Malaga, Espagne                    1\n",
       "Valencia, España                   1\n",
       "Dublin, Ireland                    1\n",
       "Bayern, Deutschland                1\n",
       "The desert                         1\n",
       "Galicia (Spain)                    1\n",
       "Chicago                            1\n",
       "Copenhagen, Denmark                1\n",
       "The Land of Ooo...                 1\n",
       "Bruges, Belgium                    1\n",
       "Entre el techo y el suelo.         1\n",
       "NEW YORK                           1\n",
       "Amsterdam, Nederland               1\n",
       "Name: location, Length: 115, dtype: int64"
      ]
     },
     "execution_count": 20,
     "metadata": {},
     "output_type": "execute_result"
    }
   ],
   "source": [
    "followers['location'].value_counts()"
   ]
  },
  {
   "cell_type": "code",
   "execution_count": 21,
   "metadata": {},
   "outputs": [
    {
     "data": {
      "text/plain": [
       "                                  32\n",
       "London                             9\n",
       "San Francisco, CA                  8\n",
       "Málaga, España                     4\n",
       "Barcelona, Spain                   3\n",
       "Málaga                             3\n",
       "Seattle, WA                        3\n",
       "London, UK                         2\n",
       "France                             2\n",
       "Madrid, Comunidad de Madrid        2\n",
       "London, England                    2\n",
       "Málaga, Spain                      2\n",
       "Global                             2\n",
       "Madrid                             2\n",
       "Cambridge, England                 2\n",
       "Las Vegas, NV                      2\n",
       "Germany                            2\n",
       "Switzerland                        2\n",
       "Austin, TX                         2\n",
       "Saint Petersburg, Russia           1\n",
       "Pittsburgh, PA                     1\n",
       "Seattle | Spain | London           1\n",
       "Barcelona/Sevilla, Spain           1\n",
       "San Francisco, California          1\n",
       "Montreal                           1\n",
       "San Francisco                      1\n",
       "60+ cities nationwide              1\n",
       "Existence                          1\n",
       "Lexically bound                    1\n",
       "Spain                              1\n",
       "                                  ..\n",
       "Bellevue, WA                       1\n",
       "St. Louis, MO                      1\n",
       "The desert                         1\n",
       "Cambridge, MA                      1\n",
       "#dotNet                            1\n",
       "Vienna, Austria                    1\n",
       "Portland, OR                       1\n",
       "Berkeley, San Francisco            1\n",
       "New York                           1\n",
       "Elche, Spain / Berlin, Germany     1\n",
       "Amsterdam, Nederland               1\n",
       "Madrid & Mallorca                  1\n",
       "Barcelona. Spain                   1\n",
       "40,42481706,-3,66246654            1\n",
       "Brooklyn, NY                       1\n",
       "Seattle, WA, USA                   1\n",
       "Valencia, Spain                    1\n",
       "Worldwide                          1\n",
       "Jerez - Spain                      1\n",
       "London / Malaga / Makati           1\n",
       "Chicago                            1\n",
       "Berlin, Germany                    1\n",
       "Paris, Ile-de-France               1\n",
       "London | Leeds | Gibraltar         1\n",
       "Deutschland                        1\n",
       "Düsseldorf, Germany                1\n",
       "Barcelona                          1\n",
       "home                               1\n",
       "Paris, France                      1\n",
       "Sydney, Australia                  1\n",
       "Name: location, Length: 133, dtype: int64"
      ]
     },
     "execution_count": 21,
     "metadata": {},
     "output_type": "execute_result"
    }
   ],
   "source": [
    "following['location'].value_counts()"
   ]
  },
  {
   "cell_type": "markdown",
   "metadata": {},
   "source": [
    "# Tweets analysis"
   ]
  },
  {
   "cell_type": "code",
   "execution_count": null,
   "metadata": {},
   "outputs": [],
   "source": [
    "run tweets.py jotb2018 1000"
   ]
  },
  {
   "cell_type": "code",
   "execution_count": null,
   "metadata": {},
   "outputs": [],
   "source": [
    "j_network = pd.read_json('../out/jotb2018_tweets.json', orient = 'index')"
   ]
  },
  {
   "cell_type": "code",
   "execution_count": null,
   "metadata": {},
   "outputs": [],
   "source": [
    "interactions = j_network['gender'].value_counts()\n",
    "genders = j_network['gender'].value_counts().keys()\n",
    "\n",
    "j_network_map = pygal.Pie(height=400)\n",
    "j_network_map.title = 'Interactions Gender Map'\n",
    "\n",
    "for i in genders:\n",
    "    j_network_map.add(i,interactions[i])\n",
    "\n",
    "j_network_map.render_in_browser()"
   ]
  },
  {
   "cell_type": "code",
   "execution_count": null,
   "metadata": {
    "scrolled": true
   },
   "outputs": [],
   "source": [
    "a = j_network['hashtags']\n",
    "b = j_network['gender']\n",
    "\n",
    "say_something = [x for x in a if x != []]\n",
    "\n",
    "tags = []\n",
    "\n",
    "for y in say_something:\n",
    "    for x in pd.DataFrame(y)[0]:\n",
    "        tags.append(x.lower())\n",
    "        \n",
    "        \n",
    "tags_used = pd.DataFrame(tags)[0].value_counts()\n",
    "tags_keys = pd.DataFrame(tags)[0].value_counts().keys()\n",
    "\n",
    "tags_map = pygal.Treemap(height=400)\n",
    "tags_map.title = 'Hashtags Map'\n",
    "\n",
    "for i in tags_keys:\n",
    "    tags_map.add(i,tags_used[i])\n",
    "\n",
    "tags_map.render_in_browser()"
   ]
  },
  {
   "cell_type": "code",
   "execution_count": null,
   "metadata": {},
   "outputs": [],
   "source": [
    "pairs = []\n",
    "for i in j_network['gender'].keys() :\n",
    "    if (j_network['hashtags'][i] != []) : \n",
    "        pairs.append([j_network['hashtags'][i], j_network['gender'][i]]) \n",
    "\n",
    "key_pairs = []\n",
    "for i,j in pairs:\n",
    "    for x in i:\n",
    "        key_pairs.append((x,j))\n",
    "\n",
    "key_pairs\n",
    "key_pair_dist = {x: key_pairs.count(x) for x in key_pairs}\n",
    "sorted_x = sorted(key_pair_dist.items(), key = operator.itemgetter(1), reverse = True)\n",
    "sorted_x\n"
   ]
  },
  {
   "cell_type": "markdown",
   "metadata": {},
   "source": [
    "## Conclusions\n",
    "\n",
    "This is nothing but an experiment, but it is also a way to avoid resignation. This doesn't need to be like it is. We need to know the people around us. Indeed, the gender, the age, the language are not the important things that matters, but are the things that affect to our unconscious bias. When it comes to organise an event with a strong belief on diversity first step is to know ourselves, fight our biased and then to explore further on our network.\n",
    "\n",
    "\n",
    "## Credits\n",
    "\n",
    "Few lines to credit this work. Thanks M. Carmen Correa to find the time between work and family to collect all these data, coding it in Python and dealing with the Twitter API. Thanks also to Ángela Dini and Gema Sánchez, to keep this project energised and share it with the press and the community. Thanks also to the women who have joined not just once, or twice but many times to Yes We Tech meetups, and for sure thank you for your interest, your support and your time. If I have one credit is just the attempt to organise a space free of the same old-boring-macho thing. Hope you enjoyed it and thank you.\n",
    "\n",
    "Shared in github https://github.com/YesWeTech/whoIsJ"
   ]
  }
 ],
 "metadata": {
  "kernelspec": {
   "display_name": "Python 2",
   "language": "python",
   "name": "python2"
  },
  "language_info": {
   "codemirror_mode": {
    "name": "ipython",
    "version": 2
   },
   "file_extension": ".py",
   "mimetype": "text/x-python",
   "name": "python",
   "nbconvert_exporter": "python",
   "pygments_lexer": "ipython2",
   "version": "2.7.14"
  }
 },
 "nbformat": 4,
 "nbformat_minor": 2
}
